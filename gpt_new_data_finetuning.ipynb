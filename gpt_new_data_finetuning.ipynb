{
 "cells": [
  {
   "cell_type": "code",
   "execution_count": 17,
   "metadata": {},
   "outputs": [],
   "source": [
    "from transformers import Trainer\n",
    "from datasets import load_dataset\n",
    "import torch\n",
    "\n",
    "ds = load_dataset(\"Gustavosta/Stable-Diffusion-Prompts\")"
   ]
  },
  {
   "cell_type": "code",
   "execution_count": 18,
   "metadata": {},
   "outputs": [],
   "source": [
    "# Load model directly\n",
    "from transformers import AutoTokenizer, AutoModelForCausalLM\n",
    "\n",
    "tokenizer = AutoTokenizer.from_pretrained(\"openai-community/gpt2\")\n",
    "tokenizer.pad_token = tokenizer.eos_token\n",
    "\n",
    "model = AutoModelForCausalLM.from_pretrained(\"openai-community/gpt2\")"
   ]
  },
  {
   "cell_type": "code",
   "execution_count": 19,
   "metadata": {},
   "outputs": [
    {
     "data": {
      "text/plain": [
       "DatasetDict({\n",
       "    train: Dataset({\n",
       "        features: ['Prompt'],\n",
       "        num_rows: 73718\n",
       "    })\n",
       "    test: Dataset({\n",
       "        features: ['Prompt'],\n",
       "        num_rows: 8192\n",
       "    })\n",
       "})"
      ]
     },
     "execution_count": 19,
     "metadata": {},
     "output_type": "execute_result"
    }
   ],
   "source": [
    "ds"
   ]
  },
  {
   "cell_type": "code",
   "execution_count": 20,
   "metadata": {},
   "outputs": [
    {
     "data": {
      "application/vnd.jupyter.widget-view+json": {
       "model_id": "95e40f177a2c48c08c7e4f82a9c65f03",
       "version_major": 2,
       "version_minor": 0
      },
      "text/plain": [
       "Map:   0%|          | 0/8192 [00:00<?, ? examples/s]"
      ]
     },
     "metadata": {},
     "output_type": "display_data"
    }
   ],
   "source": [
    "def tokenize_function(examples):\n",
    "    # Tokenize both the 'short_prompt' and 'long_prompt' columns\n",
    "    #short_prompt_tokens = tokenizer(examples[\"short_prompt\"], padding=\"max_length\", truncation=True)\n",
    "    prompt_tokens = tokenizer(examples[\"Prompt\"], padding=\"max_length\", truncation=True)\n",
    "    \n",
    "    # Merge both tokenized outputs into a single dictionary (or add them separately)\n",
    "    return {\n",
    "        'input_ids': prompt_tokens['input_ids'],\n",
    "        'attention_mask': prompt_tokens['attention_mask']\n",
    "    }\n",
    "\n",
    "# Tokenize the entire dataset (train and test)\n",
    "tokenized_datasets = ds.map(tokenize_function, batched=True)\n"
   ]
  },
  {
   "cell_type": "code",
   "execution_count": 21,
   "metadata": {},
   "outputs": [
    {
     "data": {
      "application/vnd.jupyter.widget-view+json": {
       "model_id": "ae5fc25706344f9e8ec29424ac5a732b",
       "version_major": 2,
       "version_minor": 0
      },
      "text/plain": [
       "Map:   0%|          | 0/8192 [00:00<?, ? examples/s]"
      ]
     },
     "metadata": {},
     "output_type": "display_data"
    }
   ],
   "source": [
    "def preprocess_data(examples):\n",
    "    model_inputs = {\n",
    "        'input_ids': examples['input_ids'],\n",
    "        'attention_mask': examples['attention_mask'],\n",
    "        'labels': examples['input_ids']  # The input_ids are the target labels\n",
    "    }\n",
    "    return model_inputs\n",
    "\n",
    "# Apply the preprocessing to the train and test datasets\n",
    "tokenized_datasets = tokenized_datasets.map(preprocess_data, batched=True)"
   ]
  },
  {
   "cell_type": "code",
   "execution_count": 22,
   "metadata": {},
   "outputs": [
    {
     "data": {
      "text/plain": [
       "DatasetDict({\n",
       "    train: Dataset({\n",
       "        features: ['Prompt', 'input_ids', 'attention_mask', 'labels'],\n",
       "        num_rows: 73718\n",
       "    })\n",
       "    test: Dataset({\n",
       "        features: ['Prompt', 'input_ids', 'attention_mask', 'labels'],\n",
       "        num_rows: 8192\n",
       "    })\n",
       "})"
      ]
     },
     "execution_count": 22,
     "metadata": {},
     "output_type": "execute_result"
    }
   ],
   "source": [
    "tokenized_datasets"
   ]
  },
  {
   "cell_type": "code",
   "execution_count": 23,
   "metadata": {},
   "outputs": [],
   "source": [
    "tokenized_datasets=tokenized_datasets.remove_columns('Prompt')"
   ]
  },
  {
   "cell_type": "code",
   "execution_count": 24,
   "metadata": {},
   "outputs": [
    {
     "name": "stderr",
     "output_type": "stream",
     "text": [
      "/home/dsu/Project/PeacockFlock/lib/python3.10/site-packages/transformers/training_args.py:1545: FutureWarning: `evaluation_strategy` is deprecated and will be removed in version 4.46 of 🤗 Transformers. Use `eval_strategy` instead\n",
      "  warnings.warn(\n"
     ]
    }
   ],
   "source": [
    "from transformers import TrainingArguments\n",
    "\n",
    "training_args = TrainingArguments(\n",
    "    output_dir=\"./gpt_results\",              # Save the model here\n",
    "    evaluation_strategy=\"epoch\",         # Evaluate after each epoch\n",
    "    learning_rate=2e-5,                  # Learning rate\n",
    "    per_device_train_batch_size=8,       # Training batch size\n",
    "    per_device_eval_batch_size=8,        # Evaluation batch size\n",
    "    num_train_epochs=2,                  # Number of epochs\n",
    "    weight_decay=0.01,                   # Regularization\n",
    "    save_steps=10000,\n",
    "    logging_steps=5000                   # Log every 500 steps\n",
    ")\n"
   ]
  },
  {
   "cell_type": "code",
   "execution_count": 25,
   "metadata": {},
   "outputs": [],
   "source": [
    "from transformers import Trainer\n",
    "\n",
    "trainer = Trainer(\n",
    "    model=model,\n",
    "    args=training_args,\n",
    "    train_dataset=tokenized_datasets['train'],\n",
    "    eval_dataset=tokenized_datasets['test'],\n",
    "    tokenizer=tokenizer,\n",
    ") \n"
   ]
  },
  {
   "cell_type": "code",
   "execution_count": 26,
   "metadata": {},
   "outputs": [
    {
     "data": {
      "application/vnd.jupyter.widget-view+json": {
       "model_id": "341db5b0f7bf47b29274f0464488940d",
       "version_major": 2,
       "version_minor": 0
      },
      "text/plain": [
       "  0%|          | 0/18430 [00:00<?, ?it/s]"
      ]
     },
     "metadata": {},
     "output_type": "display_data"
    },
    {
     "name": "stdout",
     "output_type": "stream",
     "text": [
      "{'loss': 0.1643, 'grad_norm': 0.37413522601127625, 'learning_rate': 1.4574064026044494e-05, 'epoch': 0.54}\n"
     ]
    },
    {
     "data": {
      "application/vnd.jupyter.widget-view+json": {
       "model_id": "326107b575044fa080e101c96adb62b6",
       "version_major": 2,
       "version_minor": 0
      },
      "text/plain": [
       "  0%|          | 0/1024 [00:00<?, ?it/s]"
      ]
     },
     "metadata": {},
     "output_type": "display_data"
    },
    {
     "name": "stdout",
     "output_type": "stream",
     "text": [
      "{'eval_loss': 0.11842742562294006, 'eval_runtime': 192.9537, 'eval_samples_per_second': 42.456, 'eval_steps_per_second': 5.307, 'epoch': 1.0}\n",
      "{'loss': 0.1301, 'grad_norm': 0.41605913639068604, 'learning_rate': 9.148128052088985e-06, 'epoch': 1.09}\n",
      "{'loss': 0.1199, 'grad_norm': 0.277890682220459, 'learning_rate': 3.722192078133479e-06, 'epoch': 1.63}\n"
     ]
    },
    {
     "data": {
      "application/vnd.jupyter.widget-view+json": {
       "model_id": "9bedf1c65786480ba85ed80755cf04c8",
       "version_major": 2,
       "version_minor": 0
      },
      "text/plain": [
       "  0%|          | 0/1024 [00:00<?, ?it/s]"
      ]
     },
     "metadata": {},
     "output_type": "display_data"
    },
    {
     "name": "stdout",
     "output_type": "stream",
     "text": [
      "{'eval_loss': 0.1103677898645401, 'eval_runtime': 192.9685, 'eval_samples_per_second': 42.453, 'eval_steps_per_second': 5.307, 'epoch': 2.0}\n",
      "{'train_runtime': 11616.939, 'train_samples_per_second': 12.691, 'train_steps_per_second': 1.586, 'train_loss': 0.1339884666405614, 'epoch': 2.0}\n"
     ]
    },
    {
     "data": {
      "text/plain": [
       "TrainOutput(global_step=18430, training_loss=0.1339884666405614, metrics={'train_runtime': 11616.939, 'train_samples_per_second': 12.691, 'train_steps_per_second': 1.586, 'total_flos': 7.7047704059904e+16, 'train_loss': 0.1339884666405614, 'epoch': 2.0})"
      ]
     },
     "execution_count": 26,
     "metadata": {},
     "output_type": "execute_result"
    }
   ],
   "source": [
    "trainer.train() "
   ]
  },
  {
   "cell_type": "code",
   "execution_count": 27,
   "metadata": {},
   "outputs": [
    {
     "data": {
      "application/vnd.jupyter.widget-view+json": {
       "model_id": "d77bac604c69431da2655bdedd751393",
       "version_major": 2,
       "version_minor": 0
      },
      "text/plain": [
       "  0%|          | 0/1024 [00:00<?, ?it/s]"
      ]
     },
     "metadata": {},
     "output_type": "display_data"
    },
    {
     "data": {
      "text/plain": [
       "{'eval_loss': 0.1103677898645401,\n",
       " 'eval_runtime': 192.3492,\n",
       " 'eval_samples_per_second': 42.589,\n",
       " 'eval_steps_per_second': 5.324,\n",
       " 'epoch': 2.0}"
      ]
     },
     "execution_count": 27,
     "metadata": {},
     "output_type": "execute_result"
    }
   ],
   "source": [
    "trainer.evaluate() "
   ]
  },
  {
   "cell_type": "code",
   "execution_count": 28,
   "metadata": {},
   "outputs": [
    {
     "data": {
      "text/plain": [
       "('./fine_tuned_gpt_new_data/tokenizer_config.json',\n",
       " './fine_tuned_gpt_new_data/special_tokens_map.json',\n",
       " './fine_tuned_gpt_new_data/vocab.json',\n",
       " './fine_tuned_gpt_new_data/merges.txt',\n",
       " './fine_tuned_gpt_new_data/added_tokens.json',\n",
       " './fine_tuned_gpt_new_data/tokenizer.json')"
      ]
     },
     "execution_count": 28,
     "metadata": {},
     "output_type": "execute_result"
    },
    {
     "ename": "",
     "evalue": "",
     "output_type": "error",
     "traceback": [
      "\u001b[1;31mThe Kernel crashed while executing code in the current cell or a previous cell. \n",
      "\u001b[1;31mPlease review the code in the cell(s) to identify a possible cause of the failure. \n",
      "\u001b[1;31mClick <a href='https://aka.ms/vscodeJupyterKernelCrash'>here</a> for more info. \n",
      "\u001b[1;31mView Jupyter <a href='command:jupyter.viewOutput'>log</a> for further details."
     ]
    }
   ],
   "source": [
    "model.save_pretrained(\"./fine_tuned_gpt_new_data\")\n",
    "tokenizer.save_pretrained(\"./fine_tuned_gpt_new_data\")\n"
   ]
  },
  {
   "cell_type": "code",
   "execution_count": null,
   "metadata": {},
   "outputs": [],
   "source": []
  }
 ],
 "metadata": {
  "kernelspec": {
   "display_name": ".final",
   "language": "python",
   "name": "python3"
  },
  "language_info": {
   "codemirror_mode": {
    "name": "ipython",
    "version": 3
   },
   "file_extension": ".py",
   "mimetype": "text/x-python",
   "name": "python",
   "nbconvert_exporter": "python",
   "pygments_lexer": "ipython3",
   "version": "3.10.12"
  }
 },
 "nbformat": 4,
 "nbformat_minor": 2
}
