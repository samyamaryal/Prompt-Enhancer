{
 "cells": [
  {
   "cell_type": "code",
   "execution_count": 1,
   "metadata": {},
   "outputs": [
    {
     "name": "stderr",
     "output_type": "stream",
     "text": [
      "2024-12-13 22:16:18.043541: E external/local_xla/xla/stream_executor/cuda/cuda_fft.cc:477] Unable to register cuFFT factory: Attempting to register factory for plugin cuFFT when one has already been registered\n",
      "WARNING: All log messages before absl::InitializeLog() is called are written to STDERR\n",
      "E0000 00:00:1734149778.170137    3909 cuda_dnn.cc:8310] Unable to register cuDNN factory: Attempting to register factory for plugin cuDNN when one has already been registered\n",
      "E0000 00:00:1734149778.213129    3909 cuda_blas.cc:1418] Unable to register cuBLAS factory: Attempting to register factory for plugin cuBLAS when one has already been registered\n",
      "2024-12-13 22:16:18.325181: I tensorflow/core/platform/cpu_feature_guard.cc:210] This TensorFlow binary is optimized to use available CPU instructions in performance-critical operations.\n",
      "To enable the following instructions: AVX2 FMA, in other operations, rebuild TensorFlow with the appropriate compiler flags.\n"
     ]
    }
   ],
   "source": [
    "from transformers import Trainer\n",
    "from datasets import load_dataset\n",
    "import torch\n",
    "\n",
    "ds = load_dataset(\"gokaygokay/prompt-enhancer-dataset\") "
   ]
  },
  {
   "cell_type": "code",
   "execution_count": 2,
   "metadata": {},
   "outputs": [],
   "source": [
    "# Load model directly\n",
    "from transformers import AutoTokenizer, AutoModelForCausalLM\n",
    "\n",
    "tokenizer = AutoTokenizer.from_pretrained(\"openai-community/gpt2\")\n",
    "tokenizer.pad_token = tokenizer.eos_token\n",
    "\n",
    "model = AutoModelForCausalLM.from_pretrained(\"openai-community/gpt2\")"
   ]
  },
  {
   "cell_type": "code",
   "execution_count": 3,
   "metadata": {},
   "outputs": [],
   "source": [
    "def tokenize_function(examples):\n",
    "    # Tokenize both the 'short_prompt' and 'long_prompt' columns\n",
    "    #short_prompt_tokens = tokenizer(examples[\"short_prompt\"], padding=\"max_length\", truncation=True)\n",
    "    long_prompt_tokens = tokenizer(examples[\"long_prompt\"], padding=\"max_length\", truncation=True)\n",
    "    \n",
    "    # Merge both tokenized outputs into a single dictionary (or add them separately)\n",
    "    return {\n",
    "        #'short_prompt_input_ids': short_prompt_tokens['input_ids'],\n",
    "        #'short_prompt_attention_mask': short_prompt_tokens['attention_mask'],\n",
    "        'long_prompt_input_ids': long_prompt_tokens['input_ids'],\n",
    "        'long_prompt_attention_mask': long_prompt_tokens['attention_mask']\n",
    "    }\n",
    "\n",
    "# Tokenize the entire dataset (train and test)\n",
    "tokenized_datasets = ds.map(tokenize_function, batched=True)\n"
   ]
  },
  {
   "cell_type": "code",
   "execution_count": 4,
   "metadata": {},
   "outputs": [],
   "source": [
    "def preprocess_data(examples):\n",
    "    # The model takes input_ids and attention_mask as inputs, and long_prompt_input_ids as labels\n",
    "    model_inputs = {\n",
    "        'input_ids': examples['long_prompt_input_ids'],\n",
    "        'attention_mask': examples['long_prompt_attention_mask'],\n",
    "        'labels': examples['long_prompt_input_ids']  # The long_prompt_input_ids are the target labels\n",
    "    }\n",
    "    return model_inputs\n",
    "\n",
    "# Apply the preprocessing to the train and test datasets\n",
    "tokenized_datasets = tokenized_datasets.map(preprocess_data, batched=True)"
   ]
  },
  {
   "cell_type": "code",
   "execution_count": 5,
   "metadata": {},
   "outputs": [
    {
     "data": {
      "text/plain": [
       "DatasetDict({\n",
       "    train: Dataset({\n",
       "        features: ['short_prompt', 'long_prompt', 'long_prompt_input_ids', 'long_prompt_attention_mask', 'input_ids', 'attention_mask', 'labels'],\n",
       "        num_rows: 16110\n",
       "    })\n",
       "    test: Dataset({\n",
       "        features: ['short_prompt', 'long_prompt', 'long_prompt_input_ids', 'long_prompt_attention_mask', 'input_ids', 'attention_mask', 'labels'],\n",
       "        num_rows: 1790\n",
       "    })\n",
       "})"
      ]
     },
     "execution_count": 5,
     "metadata": {},
     "output_type": "execute_result"
    }
   ],
   "source": [
    "tokenized_datasets"
   ]
  },
  {
   "cell_type": "code",
   "execution_count": 6,
   "metadata": {},
   "outputs": [],
   "source": [
    "from datasets import DatasetDict, Dataset\n",
    "\n",
    "# Your dataset (replace with actual data)\n",
    "dataset = DatasetDict({\n",
    "    'train': Dataset.from_dict({\n",
    "        'short_prompt_input_ids': tokenized_datasets['train']['long_prompt_input_ids'], \n",
    "        'short_prompt_attention_mask': tokenized_datasets['train']['long_prompt_attention_mask'], \n",
    "        'long_prompt_input_ids': tokenized_datasets['train']['long_prompt_input_ids']\n",
    "    }),\n",
    "    'test': Dataset.from_dict({\n",
    "        'short_prompt_input_ids': tokenized_datasets['test']['long_prompt_input_ids'], \n",
    "        'short_prompt_attention_mask': tokenized_datasets['test']['long_prompt_attention_mask'], \n",
    "        'long_prompt_input_ids': tokenized_datasets['test']['long_prompt_input_ids']\n",
    "    })\n",
    "})\n"
   ]
  },
  {
   "cell_type": "code",
   "execution_count": 7,
   "metadata": {},
   "outputs": [
    {
     "data": {
      "text/plain": [
       "DatasetDict({\n",
       "    train: Dataset({\n",
       "        features: ['short_prompt_input_ids', 'short_prompt_attention_mask', 'long_prompt_input_ids'],\n",
       "        num_rows: 16110\n",
       "    })\n",
       "    test: Dataset({\n",
       "        features: ['short_prompt_input_ids', 'short_prompt_attention_mask', 'long_prompt_input_ids'],\n",
       "        num_rows: 1790\n",
       "    })\n",
       "})"
      ]
     },
     "execution_count": 7,
     "metadata": {},
     "output_type": "execute_result"
    }
   ],
   "source": [
    "dataset"
   ]
  },
  {
   "cell_type": "code",
   "execution_count": 8,
   "metadata": {},
   "outputs": [
    {
     "data": {
      "application/vnd.jupyter.widget-view+json": {
       "model_id": "5b916bc8b9944a77a7d7daae98e9081a",
       "version_major": 2,
       "version_minor": 0
      },
      "text/plain": [
       "Map:   0%|          | 0/16110 [00:00<?, ? examples/s]"
      ]
     },
     "metadata": {},
     "output_type": "display_data"
    },
    {
     "data": {
      "application/vnd.jupyter.widget-view+json": {
       "model_id": "e50a59996913465499f87a6d5d9c10b0",
       "version_major": 2,
       "version_minor": 0
      },
      "text/plain": [
       "Map:   0%|          | 0/1790 [00:00<?, ? examples/s]"
      ]
     },
     "metadata": {},
     "output_type": "display_data"
    }
   ],
   "source": [
    "def preprocess_data(examples):\n",
    "    return {\n",
    "        'input_ids': examples['short_prompt_input_ids'],\n",
    "        'attention_mask': examples['short_prompt_attention_mask'],\n",
    "        'labels': examples['long_prompt_input_ids']\n",
    "    }\n",
    "\n",
    "# Apply preprocessing to the dataset\n",
    "tokenized_datasets = dataset.map(preprocess_data, batched=True)\n"
   ]
  },
  {
   "cell_type": "code",
   "execution_count": 9,
   "metadata": {},
   "outputs": [
    {
     "data": {
      "text/plain": [
       "DatasetDict({\n",
       "    train: Dataset({\n",
       "        features: ['short_prompt_input_ids', 'short_prompt_attention_mask', 'long_prompt_input_ids', 'input_ids', 'attention_mask', 'labels'],\n",
       "        num_rows: 16110\n",
       "    })\n",
       "    test: Dataset({\n",
       "        features: ['short_prompt_input_ids', 'short_prompt_attention_mask', 'long_prompt_input_ids', 'input_ids', 'attention_mask', 'labels'],\n",
       "        num_rows: 1790\n",
       "    })\n",
       "})"
      ]
     },
     "execution_count": 9,
     "metadata": {},
     "output_type": "execute_result"
    }
   ],
   "source": [
    "tokenized_datasets "
   ]
  },
  {
   "cell_type": "code",
   "execution_count": 10,
   "metadata": {},
   "outputs": [
    {
     "name": "stderr",
     "output_type": "stream",
     "text": [
      "/home/dsu/Project/PeacockFlock/lib/python3.10/site-packages/transformers/training_args.py:1545: FutureWarning: `evaluation_strategy` is deprecated and will be removed in version 4.46 of 🤗 Transformers. Use `eval_strategy` instead\n",
      "  warnings.warn(\n"
     ]
    }
   ],
   "source": [
    "from transformers import TrainingArguments\n",
    "\n",
    "training_args = TrainingArguments(\n",
    "    output_dir=\"./gpt_results\",              # Save the model here\n",
    "    evaluation_strategy=\"epoch\",         # Evaluate after each epoch\n",
    "    learning_rate=2e-5,                  # Learning rate\n",
    "    per_device_train_batch_size=8,       # Training batch size\n",
    "    per_device_eval_batch_size=8,        # Evaluation batch size\n",
    "    num_train_epochs=3,                  # Number of epochs\n",
    "    weight_decay=0.001,                   # Regularization\n",
    "    logging_dir=\"./t5_logs\",                # Logs directory\n",
    "    logging_steps=5000,                   # Log every 500 steps\n",
    ")\n"
   ]
  },
  {
   "cell_type": "code",
   "execution_count": 11,
   "metadata": {},
   "outputs": [],
   "source": [
    "from transformers import Trainer\n",
    "\n",
    "trainer = Trainer(\n",
    "    model=model,\n",
    "    args=training_args,\n",
    "    train_dataset=tokenized_datasets['train'],\n",
    "    eval_dataset=tokenized_datasets['test'],\n",
    "    tokenizer=tokenizer,\n",
    ") \n"
   ]
  },
  {
   "cell_type": "code",
   "execution_count": 12,
   "metadata": {},
   "outputs": [
    {
     "data": {
      "application/vnd.jupyter.widget-view+json": {
       "model_id": "34cb4c7272a647968a94be6f52657826",
       "version_major": 2,
       "version_minor": 0
      },
      "text/plain": [
       "  0%|          | 0/6042 [00:00<?, ?it/s]"
      ]
     },
     "metadata": {},
     "output_type": "display_data"
    },
    {
     "data": {
      "application/vnd.jupyter.widget-view+json": {
       "model_id": "1188ea853ae54d6a8fa0eafbc1abeb01",
       "version_major": 2,
       "version_minor": 0
      },
      "text/plain": [
       "  0%|          | 0/224 [00:00<?, ?it/s]"
      ]
     },
     "metadata": {},
     "output_type": "display_data"
    },
    {
     "name": "stdout",
     "output_type": "stream",
     "text": [
      "{'eval_loss': 0.3246106803417206, 'eval_runtime': 42.5325, 'eval_samples_per_second': 42.086, 'eval_steps_per_second': 5.267, 'epoch': 1.0}\n"
     ]
    },
    {
     "data": {
      "application/vnd.jupyter.widget-view+json": {
       "model_id": "bc5a9e8e289c4fcd86d8ecdf74093827",
       "version_major": 2,
       "version_minor": 0
      },
      "text/plain": [
       "  0%|          | 0/224 [00:00<?, ?it/s]"
      ]
     },
     "metadata": {},
     "output_type": "display_data"
    },
    {
     "name": "stdout",
     "output_type": "stream",
     "text": [
      "{'eval_loss': 0.3174147605895996, 'eval_runtime': 42.2097, 'eval_samples_per_second': 42.407, 'eval_steps_per_second': 5.307, 'epoch': 2.0}\n",
      "{'loss': 0.3407, 'grad_norm': 0.5809955596923828, 'learning_rate': 3.4491890102615033e-06, 'epoch': 2.48}\n"
     ]
    },
    {
     "data": {
      "application/vnd.jupyter.widget-view+json": {
       "model_id": "ca7cab553de94342bf9249ccde4a7236",
       "version_major": 2,
       "version_minor": 0
      },
      "text/plain": [
       "  0%|          | 0/224 [00:00<?, ?it/s]"
      ]
     },
     "metadata": {},
     "output_type": "display_data"
    },
    {
     "name": "stdout",
     "output_type": "stream",
     "text": [
      "{'eval_loss': 0.31529486179351807, 'eval_runtime': 42.5667, 'eval_samples_per_second': 42.052, 'eval_steps_per_second': 5.262, 'epoch': 3.0}\n",
      "{'train_runtime': 3912.5361, 'train_samples_per_second': 12.353, 'train_steps_per_second': 1.544, 'train_loss': 0.33704355259440427, 'epoch': 3.0}\n"
     ]
    },
    {
     "data": {
      "text/plain": [
       "TrainOutput(global_step=6042, training_loss=0.33704355259440427, metrics={'train_runtime': 3912.5361, 'train_samples_per_second': 12.353, 'train_steps_per_second': 1.544, 'total_flos': 2.525648781312e+16, 'train_loss': 0.33704355259440427, 'epoch': 3.0})"
      ]
     },
     "execution_count": 12,
     "metadata": {},
     "output_type": "execute_result"
    }
   ],
   "source": [
    "trainer.train()"
   ]
  },
  {
   "cell_type": "code",
   "execution_count": 13,
   "metadata": {},
   "outputs": [
    {
     "data": {
      "application/vnd.jupyter.widget-view+json": {
       "model_id": "4b2d9a2466b4426fb71a5745c0a67292",
       "version_major": 2,
       "version_minor": 0
      },
      "text/plain": [
       "  0%|          | 0/224 [00:00<?, ?it/s]"
      ]
     },
     "metadata": {},
     "output_type": "display_data"
    },
    {
     "data": {
      "text/plain": [
       "{'eval_loss': 0.31529486179351807,\n",
       " 'eval_runtime': 42.4412,\n",
       " 'eval_samples_per_second': 42.176,\n",
       " 'eval_steps_per_second': 5.278,\n",
       " 'epoch': 3.0}"
      ]
     },
     "execution_count": 13,
     "metadata": {},
     "output_type": "execute_result"
    }
   ],
   "source": [
    "trainer.evaluate() "
   ]
  },
  {
   "cell_type": "code",
   "execution_count": 14,
   "metadata": {},
   "outputs": [
    {
     "data": {
      "text/plain": [
       "('./fine_tuned_gpt/tokenizer_config.json',\n",
       " './fine_tuned_gpt/special_tokens_map.json',\n",
       " './fine_tuned_gpt/vocab.json',\n",
       " './fine_tuned_gpt/merges.txt',\n",
       " './fine_tuned_gpt/added_tokens.json',\n",
       " './fine_tuned_gpt/tokenizer.json')"
      ]
     },
     "execution_count": 14,
     "metadata": {},
     "output_type": "execute_result"
    },
    {
     "ename": "",
     "evalue": "",
     "output_type": "error",
     "traceback": [
      "\u001b[1;31mThe Kernel crashed while executing code in the current cell or a previous cell. \n",
      "\u001b[1;31mPlease review the code in the cell(s) to identify a possible cause of the failure. \n",
      "\u001b[1;31mClick <a href='https://aka.ms/vscodeJupyterKernelCrash'>here</a> for more info. \n",
      "\u001b[1;31mView Jupyter <a href='command:jupyter.viewOutput'>log</a> for further details."
     ]
    }
   ],
   "source": [
    "model.save_pretrained(\"./fine_tuned_gpt\")\n",
    "tokenizer.save_pretrained(\"./fine_tuned_gpt\")\n"
   ]
  }
 ],
 "metadata": {
  "kernelspec": {
   "display_name": ".final",
   "language": "python",
   "name": "python3"
  },
  "language_info": {
   "codemirror_mode": {
    "name": "ipython",
    "version": 3
   },
   "file_extension": ".py",
   "mimetype": "text/x-python",
   "name": "python",
   "nbconvert_exporter": "python",
   "pygments_lexer": "ipython3",
   "version": "3.10.12"
  }
 },
 "nbformat": 4,
 "nbformat_minor": 2
}
