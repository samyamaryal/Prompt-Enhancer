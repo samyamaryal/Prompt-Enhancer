{
 "cells": [
  {
   "cell_type": "code",
   "execution_count": 1,
   "metadata": {},
   "outputs": [
    {
     "name": "stderr",
     "output_type": "stream",
     "text": [
      "2024-12-11 23:30:36.611789: E external/local_xla/xla/stream_executor/cuda/cuda_fft.cc:477] Unable to register cuFFT factory: Attempting to register factory for plugin cuFFT when one has already been registered\n",
      "WARNING: All log messages before absl::InitializeLog() is called are written to STDERR\n",
      "E0000 00:00:1733981437.079578    2783 cuda_dnn.cc:8310] Unable to register cuDNN factory: Attempting to register factory for plugin cuDNN when one has already been registered\n",
      "E0000 00:00:1733981437.316131    2783 cuda_blas.cc:1418] Unable to register cuBLAS factory: Attempting to register factory for plugin cuBLAS when one has already been registered\n",
      "2024-12-11 23:30:38.597770: I tensorflow/core/platform/cpu_feature_guard.cc:210] This TensorFlow binary is optimized to use available CPU instructions in performance-critical operations.\n",
      "To enable the following instructions: AVX2 FMA, in other operations, rebuild TensorFlow with the appropriate compiler flags.\n"
     ]
    }
   ],
   "source": [
    "from transformers import Trainer\n",
    "from datasets import load_dataset\n",
    "import torch\n",
    "from datasets import DatasetDict, Dataset\n",
    "\n",
    "from transformers import T5Tokenizer, T5ForConditionalGeneration"
   ]
  },
  {
   "cell_type": "code",
   "execution_count": 2,
   "metadata": {},
   "outputs": [],
   "source": [
    "from transformers import TrainingArguments, Trainer"
   ]
  },
  {
   "cell_type": "code",
   "execution_count": 3,
   "metadata": {},
   "outputs": [],
   "source": [
    "ds = load_dataset(\"gokaygokay/prompt-enhancer-dataset\")"
   ]
  },
  {
   "cell_type": "code",
   "execution_count": 4,
   "metadata": {},
   "outputs": [
    {
     "name": "stderr",
     "output_type": "stream",
     "text": [
      "You are using the default legacy behaviour of the <class 'transformers.models.t5.tokenization_t5.T5Tokenizer'>. This is expected, and simply means that the `legacy` (previous) behavior will be used so nothing changes for you. If you want to use the new behaviour, set `legacy=False`. This should only be set if you understand what it means, and thoroughly read the reason why this was added as explained in https://github.com/huggingface/transformers/pull/24565\n"
     ]
    }
   ],
   "source": [
    "\n",
    "# AutoModelForCausalLM converts the embedding output of your model to a word. \n",
    "# If you use AutoModel, it doesn't convert to a word; only spits out the embedding.\n",
    "\n",
    "tokenizer = T5Tokenizer.from_pretrained(\"google-t5/t5-small\")\n",
    "model = T5ForConditionalGeneration.from_pretrained(\"google-t5/t5-small\") "
   ]
  },
  {
   "cell_type": "code",
   "execution_count": 5,
   "metadata": {},
   "outputs": [],
   "source": [
    "def tokenize_function(examples):\n",
    "    # Tokenize both the 'short_prompt' and 'long_prompt' columns\n",
    "    short_prompt_tokens = tokenizer(examples[\"short_prompt\"], padding=\"max_length\", truncation=True)\n",
    "    long_prompt_tokens = tokenizer(examples[\"long_prompt\"], padding=\"max_length\", truncation=True)\n",
    "    \n",
    "    # Merge both tokenized outputs into a single dictionary (or add them separately)\n",
    "    return {\n",
    "        'short_prompt_input_ids': short_prompt_tokens['input_ids'],\n",
    "        'short_prompt_attention_mask': short_prompt_tokens['attention_mask'],\n",
    "        'long_prompt_input_ids': long_prompt_tokens['input_ids'],\n",
    "        'long_prompt_attention_mask': long_prompt_tokens['attention_mask']\n",
    "    }\n",
    "\n",
    "# Tokenize the entire dataset (train and test)\n",
    "tokenized_datasets = ds.map(tokenize_function, batched=True)\n"
   ]
  },
  {
   "cell_type": "code",
   "execution_count": 6,
   "metadata": {},
   "outputs": [
    {
     "data": {
      "text/plain": [
       "DatasetDict({\n",
       "    train: Dataset({\n",
       "        features: ['short_prompt', 'long_prompt', 'short_prompt_input_ids', 'short_prompt_attention_mask', 'long_prompt_input_ids', 'long_prompt_attention_mask'],\n",
       "        num_rows: 16110\n",
       "    })\n",
       "    test: Dataset({\n",
       "        features: ['short_prompt', 'long_prompt', 'short_prompt_input_ids', 'short_prompt_attention_mask', 'long_prompt_input_ids', 'long_prompt_attention_mask'],\n",
       "        num_rows: 1790\n",
       "    })\n",
       "})"
      ]
     },
     "execution_count": 6,
     "metadata": {},
     "output_type": "execute_result"
    }
   ],
   "source": [
    "tokenized_datasets"
   ]
  },
  {
   "cell_type": "code",
   "execution_count": 7,
   "metadata": {},
   "outputs": [],
   "source": [
    "def preprocess_data(examples):\n",
    "    # The model takes input_ids and attention_mask as inputs, and long_prompt_input_ids as labels\n",
    "    model_inputs = {\n",
    "        'input_ids': examples['short_prompt_input_ids'],\n",
    "        'attention_mask': examples['short_prompt_attention_mask'],\n",
    "        'labels': examples['long_prompt_input_ids']  # The long_prompt_input_ids are the target labels\n",
    "    }\n",
    "    return model_inputs\n",
    "\n",
    "# Apply the preprocessing to the train and test datasets\n",
    "tokenized_datasets = tokenized_datasets.map(preprocess_data, batched=True)"
   ]
  },
  {
   "cell_type": "code",
   "execution_count": 8,
   "metadata": {},
   "outputs": [
    {
     "data": {
      "text/plain": [
       "DatasetDict({\n",
       "    train: Dataset({\n",
       "        features: ['short_prompt', 'long_prompt', 'short_prompt_input_ids', 'short_prompt_attention_mask', 'long_prompt_input_ids', 'long_prompt_attention_mask', 'input_ids', 'attention_mask', 'labels'],\n",
       "        num_rows: 16110\n",
       "    })\n",
       "    test: Dataset({\n",
       "        features: ['short_prompt', 'long_prompt', 'short_prompt_input_ids', 'short_prompt_attention_mask', 'long_prompt_input_ids', 'long_prompt_attention_mask', 'input_ids', 'attention_mask', 'labels'],\n",
       "        num_rows: 1790\n",
       "    })\n",
       "})"
      ]
     },
     "execution_count": 8,
     "metadata": {},
     "output_type": "execute_result"
    }
   ],
   "source": [
    "tokenized_datasets"
   ]
  },
  {
   "cell_type": "code",
   "execution_count": null,
   "metadata": {},
   "outputs": [],
   "source": []
  },
  {
   "cell_type": "code",
   "execution_count": 9,
   "metadata": {},
   "outputs": [],
   "source": [
    "\n",
    "# Your dataset (replace with actual data)\n",
    "dataset = DatasetDict({\n",
    "    'train': Dataset.from_dict({\n",
    "        'short_prompt_input_ids': tokenized_datasets['train']['short_prompt_input_ids'], \n",
    "        'short_prompt_attention_mask': tokenized_datasets['train']['short_prompt_attention_mask'], \n",
    "        'long_prompt_input_ids': tokenized_datasets['train']['long_prompt_input_ids']\n",
    "    }),\n",
    "    'test': Dataset.from_dict({\n",
    "        'short_prompt_input_ids': tokenized_datasets['test']['short_prompt_input_ids'], \n",
    "        'short_prompt_attention_mask': tokenized_datasets['test']['short_prompt_attention_mask'], \n",
    "        'long_prompt_input_ids': tokenized_datasets['test']['long_prompt_input_ids']\n",
    "    })\n",
    "})\n"
   ]
  },
  {
   "cell_type": "code",
   "execution_count": 10,
   "metadata": {},
   "outputs": [
    {
     "data": {
      "text/plain": [
       "DatasetDict({\n",
       "    train: Dataset({\n",
       "        features: ['short_prompt_input_ids', 'short_prompt_attention_mask', 'long_prompt_input_ids'],\n",
       "        num_rows: 16110\n",
       "    })\n",
       "    test: Dataset({\n",
       "        features: ['short_prompt_input_ids', 'short_prompt_attention_mask', 'long_prompt_input_ids'],\n",
       "        num_rows: 1790\n",
       "    })\n",
       "})"
      ]
     },
     "execution_count": 10,
     "metadata": {},
     "output_type": "execute_result"
    }
   ],
   "source": [
    "dataset"
   ]
  },
  {
   "cell_type": "code",
   "execution_count": 11,
   "metadata": {},
   "outputs": [
    {
     "name": "stderr",
     "output_type": "stream",
     "text": [
      "/home/dsu/Project/PeacockFlock/lib/python3.10/site-packages/transformers/training_args.py:1545: FutureWarning: `evaluation_strategy` is deprecated and will be removed in version 4.46 of 🤗 Transformers. Use `eval_strategy` instead\n",
      "  warnings.warn(\n"
     ]
    }
   ],
   "source": [
    "training_args = TrainingArguments(\n",
    "    output_dir=\"./t5_results\",              # Save the model here\n",
    "    evaluation_strategy=\"epoch\",         # Evaluate after each epoch\n",
    "    learning_rate=2e-5,                  # Learning rate\n",
    "    per_device_train_batch_size=8,       # Training batch size\n",
    "    per_device_eval_batch_size=8,        # Evaluation batch size\n",
    "    num_train_epochs=1,                  # Number of epochs\n",
    "    weight_decay=0.01,                   # Regularization\n",
    "    logging_dir=\"./t5_logs\",                # Logs directory\n",
    "    logging_steps=10000,                   # Log every 2000 steps\n",
    ")\n"
   ]
  },
  {
   "cell_type": "code",
   "execution_count": 12,
   "metadata": {},
   "outputs": [],
   "source": [
    "trainer = Trainer(\n",
    "    model=model,\n",
    "    args=training_args,\n",
    "    train_dataset=tokenized_datasets['train'],\n",
    "    eval_dataset=tokenized_datasets['test'],\n",
    "    tokenizer=tokenizer,\n",
    ")\n"
   ]
  },
  {
   "cell_type": "code",
   "execution_count": 13,
   "metadata": {},
   "outputs": [
    {
     "data": {
      "application/vnd.jupyter.widget-view+json": {
       "model_id": "2409943ad4d641d99d22064b73e0f65d",
       "version_major": 2,
       "version_minor": 0
      },
      "text/plain": [
       "  0%|          | 0/2014 [00:00<?, ?it/s]"
      ]
     },
     "metadata": {},
     "output_type": "display_data"
    },
    {
     "data": {
      "application/vnd.jupyter.widget-view+json": {
       "model_id": "b277bdfbc51c4331b022497b49b7fa94",
       "version_major": 2,
       "version_minor": 0
      },
      "text/plain": [
       "  0%|          | 0/224 [00:00<?, ?it/s]"
      ]
     },
     "metadata": {},
     "output_type": "display_data"
    },
    {
     "name": "stdout",
     "output_type": "stream",
     "text": [
      "{'eval_loss': 0.8599253296852112, 'eval_runtime': 15.4866, 'eval_samples_per_second': 115.584, 'eval_steps_per_second': 14.464, 'epoch': 1.0}\n",
      "{'train_runtime': 529.0872, 'train_samples_per_second': 30.449, 'train_steps_per_second': 3.807, 'train_loss': 1.2257741948935577, 'epoch': 1.0}\n"
     ]
    },
    {
     "data": {
      "text/plain": [
       "TrainOutput(global_step=2014, training_loss=1.2257741948935577, metrics={'train_runtime': 529.0872, 'train_samples_per_second': 30.449, 'train_steps_per_second': 3.807, 'total_flos': 2180356421713920.0, 'train_loss': 1.2257741948935577, 'epoch': 1.0})"
      ]
     },
     "execution_count": 13,
     "metadata": {},
     "output_type": "execute_result"
    }
   ],
   "source": [
    "trainer.train()"
   ]
  },
  {
   "cell_type": "code",
   "execution_count": 14,
   "metadata": {},
   "outputs": [
    {
     "data": {
      "application/vnd.jupyter.widget-view+json": {
       "model_id": "881cc2aa69a64dc3a67939ecbc6bd80a",
       "version_major": 2,
       "version_minor": 0
      },
      "text/plain": [
       "  0%|          | 0/224 [00:00<?, ?it/s]"
      ]
     },
     "metadata": {},
     "output_type": "display_data"
    },
    {
     "data": {
      "text/plain": [
       "{'eval_loss': 0.8599253296852112,\n",
       " 'eval_runtime': 15.7372,\n",
       " 'eval_samples_per_second': 113.743,\n",
       " 'eval_steps_per_second': 14.234,\n",
       " 'epoch': 1.0}"
      ]
     },
     "execution_count": 14,
     "metadata": {},
     "output_type": "execute_result"
    }
   ],
   "source": [
    "trainer.evaluate() "
   ]
  },
  {
   "cell_type": "code",
   "execution_count": 15,
   "metadata": {},
   "outputs": [
    {
     "data": {
      "text/plain": [
       "('./fine_tuned_t5/tokenizer_config.json',\n",
       " './fine_tuned_t5/special_tokens_map.json',\n",
       " './fine_tuned_t5/spiece.model',\n",
       " './fine_tuned_t5/added_tokens.json')"
      ]
     },
     "execution_count": 15,
     "metadata": {},
     "output_type": "execute_result"
    },
    {
     "ename": "",
     "evalue": "",
     "output_type": "error",
     "traceback": [
      "\u001b[1;31mThe Kernel crashed while executing code in the current cell or a previous cell. \n",
      "\u001b[1;31mPlease review the code in the cell(s) to identify a possible cause of the failure. \n",
      "\u001b[1;31mClick <a href='https://aka.ms/vscodeJupyterKernelCrash'>here</a> for more info. \n",
      "\u001b[1;31mView Jupyter <a href='command:jupyter.viewOutput'>log</a> for further details."
     ]
    }
   ],
   "source": [
    "model.save_pretrained(\"./fine_tuned_t5\")\n",
    "tokenizer.save_pretrained(\"./fine_tuned_t5\")\n"
   ]
  }
 ],
 "metadata": {
  "kernelspec": {
   "display_name": ".final",
   "language": "python",
   "name": "python3"
  },
  "language_info": {
   "codemirror_mode": {
    "name": "ipython",
    "version": 3
   },
   "file_extension": ".py",
   "mimetype": "text/x-python",
   "name": "python",
   "nbconvert_exporter": "python",
   "pygments_lexer": "ipython3",
   "version": "3.10.12"
  }
 },
 "nbformat": 4,
 "nbformat_minor": 2
}
